{
 "cells": [
  {
   "cell_type": "code",
   "execution_count": 3,
   "metadata": {},
   "outputs": [],
   "source": [
    "import glob"
   ]
  },
  {
   "cell_type": "code",
   "execution_count": 6,
   "metadata": {},
   "outputs": [],
   "source": [
    "original_dir = \"images/original/\"\n",
    "\n",
    "train_fold = \"images/train/\"\n",
    "\n",
    "test_fold  = \"images/test/\""
   ]
  },
  {
   "cell_type": "markdown",
   "metadata": {},
   "source": [
    "## for each category under original dir, list down the images"
   ]
  },
  {
   "cell_type": "code",
   "execution_count": 14,
   "metadata": {},
   "outputs": [],
   "source": [
    "import os\n",
    "\n",
    "category_list = ['hamburger', \"pizza\", \"ramen\", \"sushi\"]\n",
    "\n",
    "hamburger_list = os.listdir(original_dir + \"hamburger\")\n",
    "\n",
    "pizza_list = os.listdir(original_dir + \"pizza\")\n",
    "\n",
    "ramen_list = os.listdir(original_dir + \"ramen\")\n",
    "\n",
    "sushi_list = os.listdir(original_dir + \"sushi\")\n"
   ]
  },
  {
   "cell_type": "code",
   "execution_count": 17,
   "metadata": {},
   "outputs": [
    {
     "name": "stdout",
     "output_type": "stream",
     "text": [
      "number of images in hamburger list is  940\n",
      "number of images in pizza list is  978\n",
      "number of images in ramen list is  977\n",
      "number of images in sushi list is  962\n",
      "summary of images is  3857\n"
     ]
    }
   ],
   "source": [
    "print(\"number of images in hamburger list is \", len(hamburger_list))\n",
    "\n",
    "print(\"number of images in pizza list is \", len(pizza_list))\n",
    "\n",
    "print(\"number of images in ramen list is \", len(ramen_list))\n",
    "\n",
    "print(\"number of images in sushi list is \", len(sushi_list))\n",
    "\n",
    "summary = 0\n",
    "summary = len(hamburger_list) + len(pizza_list) + len(ramen_list) + len(sushi_list)\n",
    "\n",
    "print(\"summary of images is \", summary)"
   ]
  },
  {
   "cell_type": "code",
   "execution_count": 21,
   "metadata": {},
   "outputs": [
    {
     "name": "stdout",
     "output_type": "stream",
     "text": [
      "['100057.jpg', '100517.jpg', '1007277.jpg', '1009426.jpg', '1010136.jpg', '1010140.jpg', '1010695.jpg', '1013830.jpg', '1017874.jpg', '102005.jpg', '1028639.jpg', '1029228.jpg', '1031616.jpg', '1035486.jpg', '1036215.jpg', '1036785.jpg', '103716.jpg', '1038553.jpg', '1041547.jpg', '1041748.jpg', '1041751.jpg', '1042117.jpg', '1049005.jpg', '1053407.jpg', '1057407.jpg', '1061270.jpg', '1065477.jpg', '1071442.jpg', '107320.jpg', '1084567.jpg', '1084912.jpg', '1086335.jpg', '109961.jpg', '1104146.jpg', '1105370.jpg', '1105570.jpg', '1107398.jpg', '110876.jpg', '110991.jpg', '1120305.jpg', '1122669.jpg', '112314.jpg', '1126075.jpg', '1133388.jpg', '1144233.jpg', '1151417.jpg', '116741.jpg', '1170104.jpg', '117020.jpg', '1175157.jpg', '1175221.jpg', '1175284.jpg', '1175364.jpg', '1175395.jpg', '1177971.jpg', '1181766.jpg', '118484.jpg', '1192222.jpg', '1202261.jpg', '120612.jpg', '1208447.jpg', '1210060.jpg', '1213037.jpg', '1225832.jpg', '1228951.jpg', '1230241.jpg', '1234438.jpg', '1237509.jpg', '1245594.jpg', '1253144.jpg', '1253448.jpg', '1255149.jpg', '1260356.jpg', '1276246.jpg', '1286359.jpg', '1289156.jpg', '1290485.jpg', '129939.jpg', '1301947.jpg', '1302578.jpg', '1303545.jpg', '130598.jpg', '130759.jpg', '1307906.jpg', '1309089.jpg', '1317285.jpg', '1317619.jpg', '13211.jpg', '1326608.jpg', '1327199.jpg', '1334884.jpg', '1335771.jpg', '1337536.jpg', '1343040.jpg', '134819.jpg', '1350012.jpg', '1351742.jpg', '1356688.jpg', '1357604.jpg', '13641.jpg', '137432.jpg', '1381751.jpg', '138330.jpg', '1385479.jpg', '13915.jpg', '1392659.jpg', '139558.jpg', '1398841.jpg', '1403548.jpg', '1404731.jpg', '1417023.jpg', '1425173.jpg', '1447114.jpg', '1447695.jpg', '1452537.jpg', '145378.jpg', '1459413.jpg', '1459453.jpg', '14657.jpg', '1473146.jpg', '1474492.jpg', '1478950.jpg', '1488723.jpg', '1489337.jpg', '1489753.jpg', '1489783.jpg', '1492254.jpg', '1500893.jpg', '1510284.jpg', '1512098.jpg', '1512586.jpg', '1514911.jpg', '1520708.jpg', '1525376.jpg', '1526341.jpg', '1535073.jpg', '1538992.jpg', '153931.jpg', '1540758.jpg', '1543118.jpg', '1545728.jpg', '1546566.jpg', '1552080.jpg', '1553214.jpg', '155496.jpg', '155594.jpg', '1565439.jpg', '1566310.jpg', '1567823.jpg', '1570733.jpg', '157688.jpg', '1583543.jpg', '1584018.jpg', '1585333.jpg', '1591393.jpg', '159304.jpg', '1594058.jpg', '1596452.jpg', '1597001.jpg', '1597561.jpg', '1601449.jpg', '1623440.jpg', '1626383.jpg', '162789.jpg', '1634763.jpg', '1635356.jpg', '1636096.jpg', '163637.jpg', '1643371.jpg', '1643851.jpg', '1645528.jpg', '1654528.jpg', '166566.jpg', '166940.jpg', '1669585.jpg', '1670180.jpg', '1674092.jpg', '1679008.jpg', '167971.jpg', '1687720.jpg', '169191.jpg', '1693358.jpg', '169479.jpg', '170292.jpg', '1709710.jpg', '1718036.jpg', '172005.jpg', '1724647.jpg', '1733250.jpg', '1741383.jpg', '1747465.jpg', '175584.jpg', '1756519.jpg', '1757576.jpg', '1761259.jpg', '1768219.jpg', '1770793.jpg', '1772548.jpg', '177522.jpg', '177861.jpg', '1781176.jpg', '178840.jpg', '179593.jpg', '1802721.jpg', '1804091.jpg', '1812972.jpg', '1816650.jpg', '1818289.jpg', '1818719.jpg', '1821268.jpg', '1823305.jpg', '1828545.jpg', '1831555.jpg', '1833096.jpg', '1838179.jpg', '1839233.jpg', '1840786.jpg', '1847289.jpg', '184751.jpg', '1847757.jpg', '184955.jpg', '18518.jpg', '1852483.jpg', '1854382.jpg', '1864131.jpg', '1864786.jpg', '1879189.jpg', '1888361.jpg', '1889072.jpg', '1890101.jpg', '1897946.jpg', '1903326.jpg', '1906193.jpg', '1908105.jpg', '1909271.jpg', '1922963.jpg', '1923024.jpg', '1923125.jpg', '1928916.jpg', '1935602.jpg', '193622.jpg', '1950289.jpg', '1957899.jpg', '1959744.jpg', '1960715.jpg', '1964319.jpg', '1969928.jpg', '1970489.jpg', '1973158.jpg', '1974530.jpg', '1979079.jpg', '1983089.jpg', '1983496.jpg', '1985087.jpg', '1991820.jpg', '1992893.jpg', '1999677.jpg', '2000097.jpg', '2005380.jpg', '2007244.jpg', '2009324.jpg', '201200.jpg', '2014421.jpg', '2025737.jpg', '2028843.jpg', '2034553.jpg', '2035320.jpg', '204552.jpg', '2062556.jpg', '2063044.jpg', '209001.jpg', '2090357.jpg', '2100733.jpg', '2100953.jpg', '2100991.jpg', '2103375.jpg', '2103408.jpg', '210405.jpg', '2107358.jpg', '2111010.jpg', '2114471.jpg', '2117694.jpg', '2119225.jpg', '2125562.jpg', '212746.jpg', '2128914.jpg', '2129527.jpg', '2130925.jpg', '2131711.jpg', '2135938.jpg', '2142633.jpg', '214437.jpg', '2145273.jpg', '214601.jpg', '2148281.jpg', '2148997.jpg', '215037.jpg', '2154348.jpg', '2157483.jpg', '2165484.jpg', '216853.jpg', '2177068.jpg', '2178047.jpg', '217855.jpg', '2182615.jpg', '2184165.jpg', '2188106.jpg', '2188393.jpg', '2189229.jpg', '2200084.jpg', '2201071.jpg', '2207445.jpg', '22093.jpg', '2212320.jpg', '2213149.jpg', '2214528.jpg', '2217236.jpg', '221845.jpg', '2218533.jpg', '2219841.jpg', '2222741.jpg', '2223416.jpg', '2228181.jpg', '2232379.jpg', '2237356.jpg', '2240462.jpg', '2241307.jpg', '2248152.jpg', '2248694.jpg', '2250663.jpg', '2252809.jpg', '225371.jpg', '2256750.jpg', '2257914.jpg', '2264276.jpg', '2268998.jpg', '22723.jpg', '2274013.jpg', '2277205.jpg', '2278946.jpg', '22923.jpg', '2303809.jpg', '2311474.jpg', '2312480.jpg', '2313612.jpg', '2316148.jpg', '231857.jpg', '2319376.jpg', '2330829.jpg', '2332261.jpg', '2341674.jpg', '23454.jpg', '2352227.jpg', '2361390.jpg', '2361393.jpg', '2363407.jpg', '236924.jpg', '2372320.jpg', '2385388.jpg', '2386519.jpg', '2390722.jpg', '239086.jpg', '239309.jpg', '2405850.jpg', '2406075.jpg', '2410291.jpg', '2410431.jpg', '2411538.jpg', '2417159.jpg', '2419243.jpg', '242083.jpg', '2426514.jpg', '242929.jpg', '243204.jpg', '2436824.jpg', '243709.jpg', '2437718.jpg', '244216.jpg', '245244.jpg', '2466948.jpg', '24753.jpg', '247640.jpg', '2477264.jpg', '2480925.jpg', '2482999.jpg', '2495221.jpg', '2503712.jpg', '250782.jpg', '2508539.jpg', '2521595.jpg', '2522403.jpg', '25250.jpg', '2534877.jpg', '2537883.jpg', '2537940.jpg', '2551984.jpg', '2560683.jpg', '2562323.jpg', '256294.jpg', '256317.jpg', '2565475.jpg', '2566738.jpg', '2574916.jpg', '258288.jpg', '258503.jpg', '2588852.jpg', '2591266.jpg', '2591354.jpg', '2599548.jpg', '2608021.jpg', '2609270.jpg', '2612278.jpg', '2612664.jpg', '2619287.jpg', '2622394.jpg', '2622458.jpg', '2623364.jpg', '2626189.jpg', '2630526.jpg', '2662814.jpg', '2663947.jpg', '2665487.jpg', '2665830.jpg', '2668437.jpg', '2671820.jpg', '2674001.jpg', '2686914.jpg', '2687426.jpg', '2705807.jpg', '2710550.jpg', '2710786.jpg', '2711405.jpg', '2715888.jpg', '2718447.jpg', '271916.jpg', '272642.jpg', '2726558.jpg', '2738245.jpg', '2745577.jpg', '2745917.jpg', '2754513.jpg', '2762170.jpg', '2771605.jpg', '277584.jpg', '2777938.jpg', '2790429.jpg', '279510.jpg', '2797268.jpg', '279729.jpg', '2808308.jpg', '281725.jpg', '281733.jpg', '2825406.jpg', '2825993.jpg', '2826072.jpg', '2829795.jpg', '283514.jpg', '2836127.jpg', '2836933.jpg', '2838015.jpg', '285384.jpg', '286323.jpg', '2863754.jpg', '2874704.jpg', '2875062.jpg', '2877643.jpg', '2879938.jpg', '2882999.jpg', '2884546.jpg', '2891622.jpg', '2894838.jpg', '2897464.jpg', '2899066.jpg', '2901664.jpg', '2902992.jpg', '290587.jpg', '2906023.jpg', '2906568.jpg', '2909638.jpg', '2923292.jpg', '292599.jpg', '292737.jpg', '2928946.jpg', '2935045.jpg', '2945142.jpg', '29455.jpg', '2945814.jpg', '294644.jpg', '2952681.jpg', '2953924.jpg', '2961000.jpg', '2962236.jpg', '2970771.jpg', '2975573.jpg', '2977639.jpg', '298239.jpg', '2982689.jpg', '2984854.jpg', '2988095.jpg', '30012.jpg', '3008087.jpg', '301264.jpg', '3019166.jpg', '302613.jpg', '3028531.jpg', '3028569.jpg', '3030255.jpg', '3031490.jpg', '3037400.jpg', '3037447.jpg', '3043581.jpg', '3057786.jpg', '3062381.jpg', '3069250.jpg', '3069694.jpg', '3071165.jpg', '3083927.jpg', '3088660.jpg', '309049.jpg', '3090530.jpg', '3092142.jpg', '3098327.jpg', '3101158.jpg', '310724.jpg', '3116894.jpg', '3125905.jpg', '3127729.jpg', '3131777.jpg', '3131908.jpg', '3140245.jpg', '3140576.jpg', '314426.jpg', '315121.jpg', '3153937.jpg', '3155346.jpg', '3156127.jpg', '3156785.jpg', '3160193.jpg', '3162373.jpg', '3166759.jpg', '3167157.jpg', '3168485.jpg', '3172516.jpg', '3182852.jpg', '3199592.jpg', '3213507.jpg', '3215406.jpg', '3218659.jpg', '3219029.jpg', '3220288.jpg', '322228.jpg', '3228181.jpg', '3231173.jpg', '3236272.jpg', '3237878.jpg', '3243138.jpg', '3244630.jpg', '3274673.jpg', '3278767.jpg', '3282635.jpg', '3283071.jpg', '3283283.jpg', '3287766.jpg', '3289634.jpg', '3295316.jpg', '3305010.jpg', '330566.jpg', '330628.jpg', '3308102.jpg', '3308293.jpg', '3309917.jpg', '3312172.jpg', '3328593.jpg', '333517.jpg', '3336850.jpg', '334442.jpg', '3346138.jpg', '3347896.jpg', '3353691.jpg', '3354260.jpg', '3354472.jpg', '3365675.jpg', '337374.jpg', '3384314.jpg', '3391627.jpg', '3394148.jpg', '3397863.jpg', '339829.jpg', '339960.jpg', '3402120.jpg', '3406531.jpg', '3409351.jpg', '340982.jpg', '3410764.jpg', '3413347.jpg', '342538.jpg', '3432262.jpg', '3433981.jpg', '3435863.jpg', '3438060.jpg', '3442375.jpg', '3450907.jpg', '345291.jpg', '3452947.jpg', '3463634.jpg', '3474160.jpg', '3479742.jpg', '3483897.jpg', '3486079.jpg', '3486853.jpg', '3488531.jpg', '3490968.jpg', '3502852.jpg', '3502862.jpg', '3508112.jpg', '350854.jpg', '3510148.jpg', '3514547.jpg', '351506.jpg', '352061.jpg', '352840.jpg', '3530013.jpg', '3530076.jpg', '3530266.jpg', '353298.jpg', '3536773.jpg', '3538912.jpg', '3543840.jpg', '3549095.jpg', '3550428.jpg', '3555912.jpg', '3563379.jpg', '3568995.jpg', '3570133.jpg', '3570287.jpg', '3575210.jpg', '3577815.jpg', '3577939.jpg', '3581748.jpg', '3583066.jpg', '3594693.jpg', '360082.jpg', '3606132.jpg', '3606601.jpg', '3616027.jpg', '3634090.jpg', '3637949.jpg', '3640020.jpg', '3643079.jpg', '3643495.jpg', '3647386.jpg', '3652790.jpg', '3655355.jpg', '3655547.jpg', '3665956.jpg', '3667950.jpg', '3670065.jpg', '3671365.jpg', '3673642.jpg', '3673989.jpg', '3677215.jpg', '3681763.jpg', '3685652.jpg', '3692315.jpg', '3700554.jpg', '3702789.jpg', '370752.jpg', '3712135.jpg', '3713125.jpg', '371830.jpg', '3718488.jpg', '3722584.jpg', '3726429.jpg', '3728099.jpg', '3728987.jpg', '3732779.jpg', '3736455.jpg', '3737888.jpg', '3741248.jpg', '374344.jpg', '3743605.jpg', '3745227.jpg', '3750804.jpg', '3753321.jpg', '3759470.jpg', '3765170.jpg', '3765761.jpg', '3768429.jpg', '3769905.jpg', '376995.jpg', '3771719.jpg', '3771888.jpg', '378487.jpg', '3790333.jpg', '3791190.jpg', '379510.jpg', '3796218.jpg', '3805259.jpg', '3805565.jpg', '3807630.jpg', '3807701.jpg', '3811038.jpg', '381322.jpg', '3816451.jpg', '3818286.jpg', '3821078.jpg', '3822189.jpg', '382691.jpg', '3830375.jpg', '385296.jpg', '3866252.jpg', '3867148.jpg', '3871341.jpg', '3873144.jpg', '3876996.jpg', '3878886.jpg', '3880113.jpg', '3891490.jpg', '3894442.jpg', '3900340.jpg', '3901132.jpg', '3905260.jpg', '3912017.jpg', '3916139.jpg', '3919964.jpg', '392846.jpg', '396083.jpg', '398340.jpg', '402200.jpg', '402245.jpg', '406359.jpg', '406390.jpg', '40675.jpg', '410334.jpg', '413222.jpg', '415105.jpg', '415662.jpg', '417861.jpg', '418104.jpg', '419342.jpg', '419902.jpg', '42335.jpg', '423924.jpg', '424637.jpg', '428710.jpg', '438537.jpg', '440560.jpg', '440931.jpg', '442330.jpg', '443349.jpg', '446192.jpg', '447012.jpg', '448484.jpg', '450282.jpg', '450434.jpg', '45064.jpg', '45547.jpg', '460108.jpg', '468712.jpg', '473236.jpg', '474373.jpg', '47595.jpg', '476337.jpg', '47846.jpg', '484022.jpg', '486402.jpg', '489986.jpg', '492903.jpg', '499370.jpg', '499437.jpg', '503145.jpg', '5052.jpg', '50638.jpg', '509480.jpg', '510448.jpg', '520715.jpg', '526567.jpg', '526683.jpg', '526726.jpg', '528494.jpg', '529449.jpg', '535451.jpg', '541358.jpg', '543722.jpg', '54507.jpg', '552647.jpg', '554363.jpg', '555211.jpg', '557542.jpg', '561431.jpg', '561979.jpg', '564651.jpg', '568518.jpg', '571953.jpg', '57610.jpg', '576270.jpg', '576807.jpg', '577312.jpg', '577673.jpg', '577684.jpg', '579852.jpg', '580186.jpg', '582274.jpg', '58431.jpg', '585430.jpg', '585443.jpg', '587018.jpg', '588037.jpg', '591221.jpg', '592885.jpg', '593030.jpg', '595963.jpg', '598436.jpg', '601386.jpg', '604162.jpg', '604483.jpg', '607735.jpg', '607907.jpg', '60794.jpg', '608198.jpg', '611133.jpg', '613983.jpg', '615546.jpg', '618159.jpg', '620037.jpg', '620632.jpg', '624407.jpg', '624980.jpg', '629010.jpg', '629268.jpg', '634096.jpg', '637917.jpg', '639957.jpg', '639977.jpg', '640204.jpg', '642418.jpg', '6432.jpg', '643450.jpg', '650755.jpg', '65141.jpg', '656458.jpg', '657820.jpg', '658208.jpg', '686342.jpg', '68979.jpg', '697480.jpg', '697639.jpg', '698451.jpg', '699176.jpg', '699700.jpg', '699829.jpg', '70019.jpg', '700343.jpg', '703677.jpg', '708454.jpg', '716829.jpg', '719858.jpg', '72111.jpg', '72266.jpg', '724367.jpg', '730040.jpg', '732473.jpg', '73340.jpg', '734458.jpg', '73783.jpg', '740621.jpg', '747666.jpg', '750597.jpg', '75550.jpg', '762602.jpg', '764175.jpg', '76817.jpg', '76858.jpg', '775003.jpg', '779936.jpg', '782170.jpg', '782295.jpg', '787142.jpg', '78997.jpg', '79711.jpg', '799334.jpg', '800876.jpg', '804047.jpg', '806915.jpg', '809137.jpg', '810199.jpg', '811344.jpg', '816775.jpg', '81707.jpg', '81732.jpg', '81813.jpg', '821346.jpg', '82314.jpg', '825243.jpg', '825337.jpg', '828367.jpg', '83196.jpg', '839963.jpg', '840018.jpg', '845305.jpg', '846950.jpg', '847016.jpg', '861844.jpg', '862025.jpg', '862582.jpg', '868903.jpg', '873705.jpg', '878103.jpg', '878925.jpg', '879355.jpg', '883801.jpg', '892777.jpg', '898642.jpg', '90115.jpg', '903277.jpg', '909950.jpg', '91566.jpg', '91602.jpg', '91789.jpg', '917931.jpg', '922386.jpg', '923384.jpg', '930645.jpg', '939444.jpg', '950766.jpg', '960781.jpg', '966137.jpg', '966618.jpg', '973733.jpg', '976482.jpg', '97917.jpg', '985020.jpg', '986085.jpg', '986604.jpg', '988443.jpg', '990601.jpg', '991372.jpg', '992374.jpg', '992429.jpg', '992590.jpg']\n"
     ]
    }
   ],
   "source": [
    "print(hamburger_list)"
   ]
  },
  {
   "cell_type": "markdown",
   "metadata": {},
   "source": [
    "## check duplicates among images"
   ]
  },
  {
   "cell_type": "code",
   "execution_count": 22,
   "metadata": {},
   "outputs": [
    {
     "name": "stdout",
     "output_type": "stream",
     "text": [
      "set()\n"
     ]
    }
   ],
   "source": [
    "image_set = set()\n",
    "\n",
    "print(image_set)"
   ]
  },
  {
   "cell_type": "code",
   "execution_count": 23,
   "metadata": {},
   "outputs": [],
   "source": [
    "for imageName in hamburger_list:\n",
    "    if imageName not in image_set:\n",
    "        image_set.add(imageName)\n",
    "    else:\n",
    "        print(\"This image is duplicated \", imageName)"
   ]
  },
  {
   "cell_type": "code",
   "execution_count": 24,
   "metadata": {},
   "outputs": [],
   "source": [
    "for imageName in pizza_list:\n",
    "    if imageName not in image_set:\n",
    "        image_set.add(imageName)\n",
    "    else:\n",
    "        print(\"This image is duplicated \", imageName)"
   ]
  },
  {
   "cell_type": "code",
   "execution_count": 25,
   "metadata": {},
   "outputs": [],
   "source": [
    "for imageName in ramen_list:\n",
    "    if imageName not in image_set:\n",
    "        image_set.add(imageName)\n",
    "    else:\n",
    "        print(\"This image is duplicated \", imageName)"
   ]
  },
  {
   "cell_type": "code",
   "execution_count": 26,
   "metadata": {},
   "outputs": [],
   "source": [
    "for imageName in sushi_list:\n",
    "    if imageName not in image_set:\n",
    "        image_set.add(imageName)\n",
    "    else:\n",
    "        print(\"This image is duplicated \", imageName)"
   ]
  },
  {
   "cell_type": "code",
   "execution_count": 27,
   "metadata": {},
   "outputs": [
    {
     "data": {
      "text/plain": [
       "3857"
      ]
     },
     "execution_count": 27,
     "metadata": {},
     "output_type": "execute_result"
    }
   ],
   "source": [
    "len(image_set)"
   ]
  },
  {
   "cell_type": "code",
   "execution_count": 28,
   "metadata": {},
   "outputs": [
    {
     "name": "stdout",
     "output_type": "stream",
     "text": [
      "The names are not duplicated\n"
     ]
    }
   ],
   "source": [
    "if len(image_set) == summary:\n",
    "    print(\"The names are not duplicated\")"
   ]
  },
  {
   "cell_type": "markdown",
   "metadata": {},
   "source": [
    "## from each category, randomly select 150 as the test image"
   ]
  },
  {
   "cell_type": "code",
   "execution_count": 33,
   "metadata": {},
   "outputs": [
    {
     "name": "stdout",
     "output_type": "stream",
     "text": [
      "['2419243.jpg', '1818719.jpg', '90115.jpg', '3028569.jpg', '315121.jpg', '294644.jpg', '2157483.jpg', '591221.jpg', '3919964.jpg', '3570133.jpg', '1584018.jpg', '1840786.jpg', '2671820.jpg', '868903.jpg', '1133388.jpg', '170292.jpg', '2762170.jpg', '2882999.jpg', '1473146.jpg', '2219841.jpg', '2330829.jpg', '3805565.jpg', '2897464.jpg', '697480.jpg', '1488723.jpg', '2062556.jpg', '3912017.jpg', '1570733.jpg', '1381751.jpg', '2970771.jpg', '2537940.jpg', '2406075.jpg', '100057.jpg', '13915.jpg', '2718447.jpg', '178840.jpg', '2495221.jpg', '762602.jpg', '541358.jpg', '3218659.jpg', '2319376.jpg', '1567823.jpg', '225371.jpg', '450434.jpg', '1626383.jpg', '1757576.jpg', '1010140.jpg', '873705.jpg', '2142633.jpg', '258503.jpg', '2906568.jpg', '378487.jpg', '2612664.jpg', '3577939.jpg', '3713125.jpg', '3563379.jpg', '175584.jpg', '3634090.jpg', '242083.jpg', '3640020.jpg', '639977.jpg', '3282635.jpg', '3867148.jpg', '564651.jpg', '3220288.jpg', '72266.jpg', '1225832.jpg', '2705807.jpg', '1566310.jpg', '245244.jpg', '1260356.jpg', '1635356.jpg', '3127729.jpg', '2165484.jpg', '1973158.jpg', '212746.jpg', '3353691.jpg', '3162373.jpg', '643450.jpg', '861844.jpg', '231857.jpg', '806915.jpg', '1447114.jpg', '811344.jpg', '214437.jpg', '2894838.jpg', '6432.jpg', '555211.jpg', '825337.jpg', '1828545.jpg', '1327199.jpg', '571953.jpg', '415662.jpg', '402200.jpg', '1350012.jpg', '3871341.jpg', '3771719.jpg', '334442.jpg', '658208.jpg', '3346138.jpg', '3665956.jpg', '1255149.jpg', '1693358.jpg', '82314.jpg', '54507.jpg', '3409351.jpg', '2217236.jpg', '1036215.jpg', '2771605.jpg', '1228951.jpg', '1812972.jpg', '3274673.jpg', '446192.jpg', '816775.jpg', '204552.jpg', '3502862.jpg', '3438060.jpg', '3916139.jpg', '799334.jpg', '3667950.jpg', '1928916.jpg', '1756519.jpg', '184955.jpg', '3237878.jpg', '2710550.jpg', '3037447.jpg', '239086.jpg', '1053407.jpg', '1974530.jpg', '385296.jpg', '1897946.jpg', '698451.jpg', '2836933.jpg', '447012.jpg', '1213037.jpg', '2754513.jpg', '3336850.jpg', '118484.jpg', '442330.jpg', '3057786.jpg', '2014421.jpg', '3167157.jpg', '139558.jpg', '3156785.jpg', '392846.jpg', '585430.jpg', '535451.jpg', '2154348.jpg', '1979079.jpg', '381322.jpg']\n",
      "['3785667.jpg', '1202689.jpg', '3917951.jpg', '132484.jpg', '1398213.jpg', '2584745.jpg', '293433.jpg', '3814200.jpg', '786995.jpg', '228778.jpg', '341377.jpg', '2667255.jpg', '576236.jpg', '3669673.jpg', '321526.jpg', '2870405.jpg', '1165451.jpg', '966644.jpg', '3384856.jpg', '979998.jpg', '1665654.jpg', '394049.jpg', '53217.jpg', '2821034.jpg', '1001116.jpg', '573054.jpg', '3191035.jpg', '2992605.jpg', '741491.jpg', '835833.jpg', '976107.jpg', '1870865.jpg', '2426686.jpg', '13983.jpg', '829229.jpg', '1425089.jpg', '89197.jpg', '441659.jpg', '3574192.jpg', '2126709.jpg', '857888.jpg', '540882.jpg', '1617418.jpg', '740385.jpg', '723745.jpg', '2877565.jpg', '3873326.jpg', '52934.jpg', '2161241.jpg', '309892.jpg', '910419.jpg', '3397336.jpg', '372275.jpg', '3430418.jpg', '2871261.jpg', '833711.jpg', '169720.jpg', '132554.jpg', '712149.jpg', '387697.jpg', '1571074.jpg', '277963.jpg', '513415.jpg', '2711828.jpg', '2581276.jpg', '1828050.jpg', '2224828.jpg', '3703769.jpg', '2331467.jpg', '1413289.jpg', '2091857.jpg', '1635386.jpg', '1504421.jpg', '724290.jpg', '2501636.jpg', '790058.jpg', '102037.jpg', '220910.jpg', '1915343.jpg', '2666066.jpg', '2172850.jpg', '395034.jpg', '2705497.jpg', '904938.jpg', '489347.jpg', '3530210.jpg', '3557127.jpg', '1524599.jpg', '1412034.jpg', '3082443.jpg', '1987634.jpg', '1958364.jpg', '3644733.jpg', '648055.jpg', '3128495.jpg', '332231.jpg', '759873.jpg', '65128.jpg', '452989.jpg', '3766476.jpg', '792093.jpg', '3342039.jpg', '413710.jpg', '2312987.jpg', '2155735.jpg', '626170.jpg', '2901001.jpg', '3790235.jpg', '2165223.jpg', '3628930.jpg', '3882444.jpg', '3767773.jpg', '998005.jpg', '3173779.jpg', '2514438.jpg', '3338774.jpg', '676432.jpg', '350358.jpg', '271779.jpg', '2572488.jpg', '1898723.jpg', '1098197.jpg', '3549765.jpg', '1655630.jpg', '2330965.jpg', '1950499.jpg', '3473991.jpg', '2382016.jpg', '3479936.jpg', '514014.jpg', '2577377.jpg', '1778167.jpg', '3514408.jpg', '2723529.jpg', '728260.jpg', '282013.jpg', '2406842.jpg', '2811032.jpg', '3871666.jpg', '898843.jpg', '1205154.jpg', '2019583.jpg', '3109486.jpg', '1047561.jpg', '799874.jpg', '979933.jpg', '2014717.jpg', '893644.jpg', '3763593.jpg', '179165.jpg']\n",
      "['2822516.jpg', '927916.jpg', '2616242.jpg', '3597132.jpg', '2760491.jpg', '3356618.jpg', '624944.jpg', '2705533.jpg', '1247495.jpg', '2413206.jpg', '1349606.jpg', '1179814.jpg', '3192300.jpg', '2197202.jpg', '640531.jpg', '282018.jpg', '2686393.jpg', '947911.jpg', '3455344.jpg', '1045249.jpg', '556676.jpg', '295183.jpg', '39195.jpg', '357894.jpg', '240564.jpg', '5025.jpg', '101297.jpg', '2135910.jpg', '2535560.jpg', '2189396.jpg', '25525.jpg', '2286853.jpg', '457559.jpg', '486353.jpg', '224074.jpg', '3097820.jpg', '78712.jpg', '3075273.jpg', '3442121.jpg', '317067.jpg', '3799319.jpg', '1162542.jpg', '333940.jpg', '453058.jpg', '2869148.jpg', '1661819.jpg', '1919630.jpg', '905253.jpg', '2492552.jpg', '3520891.jpg', '251689.jpg', '2877136.jpg', '424202.jpg', '2130434.jpg', '77655.jpg', '3545.jpg', '927930.jpg', '161017.jpg', '1864486.jpg', '2675017.jpg', '22837.jpg', '5023.jpg', '1874907.jpg', '1000325.jpg', '3067220.jpg', '1189579.jpg', '422013.jpg', '174049.jpg', '3639143.jpg', '3242614.jpg', '16574.jpg', '483461.jpg', '465027.jpg', '120681.jpg', '2160495.jpg', '824817.jpg', '191388.jpg', '2464478.jpg', '1170570.jpg', '212138.jpg', '568237.jpg', '1212029.jpg', '922948.jpg', '503325.jpg', '30442.jpg', '3554514.jpg', '2911879.jpg', '3278814.jpg', '1416811.jpg', '3747217.jpg', '3386205.jpg', '367810.jpg', '1640545.jpg', '1363670.jpg', '2137213.jpg', '1461166.jpg', '428446.jpg', '362163.jpg', '3807662.jpg', '2610.jpg', '266977.jpg', '2568103.jpg', '197590.jpg', '703171.jpg', '3895578.jpg', '2783434.jpg', '2690047.jpg', '2391421.jpg', '250129.jpg', '9330.jpg', '3853628.jpg', '305639.jpg', '1082564.jpg', '1678094.jpg', '1850812.jpg', '3737485.jpg', '2692909.jpg', '289442.jpg', '2612254.jpg', '3826653.jpg', '1385131.jpg', '1198650.jpg', '2876385.jpg', '2821716.jpg', '2475255.jpg', '377566.jpg', '606121.jpg', '1427017.jpg', '2612951.jpg', '762620.jpg', '725200.jpg', '1144837.jpg', '3403263.jpg', '1276971.jpg', '1753531.jpg', '2763187.jpg', '1328698.jpg', '2814413.jpg', '3105468.jpg', '268012.jpg', '560353.jpg', '1330020.jpg', '3629275.jpg', '2386343.jpg', '599227.jpg', '3488768.jpg', '2028420.jpg', '1105466.jpg', '2509239.jpg', '714914.jpg']\n",
      "['2903125.jpg', '1277864.jpg', '2550050.jpg', '542188.jpg', '650338.jpg', '3111722.jpg', '3755656.jpg', '2674024.jpg', '953649.jpg', '2307232.jpg', '3203091.jpg', '1456211.jpg', '2500528.jpg', '2197749.jpg', '1112798.jpg', '3827966.jpg', '507005.jpg', '1232051.jpg', '623621.jpg', '243284.jpg', '1341510.jpg', '1165321.jpg', '307738.jpg', '2670327.jpg', '3726352.jpg', '1626195.jpg', '3313617.jpg', '575853.jpg', '527650.jpg', '888777.jpg', '844457.jpg', '3630702.jpg', '894858.jpg', '2393004.jpg', '1749979.jpg', '2743100.jpg', '1723989.jpg', '166435.jpg', '1840999.jpg', '1456550.jpg', '316574.jpg', '169392.jpg', '3196729.jpg', '902214.jpg', '1957449.jpg', '2039722.jpg', '472912.jpg', '2328605.jpg', '3737197.jpg', '1012499.jpg', '1404154.jpg', '768721.jpg', '1676252.jpg', '716319.jpg', '1531389.jpg', '307716.jpg', '96680.jpg', '2349183.jpg', '2357.jpg', '1575445.jpg', '918194.jpg', '571696.jpg', '2473911.jpg', '2011810.jpg', '1944743.jpg', '1143615.jpg', '3392092.jpg', '900178.jpg', '1231094.jpg', '3377501.jpg', '36741.jpg', '2216716.jpg', '1987407.jpg', '652353.jpg', '194976.jpg', '6130.jpg', '3494926.jpg', '49286.jpg', '1184849.jpg', '1554720.jpg', '1891961.jpg', '1259816.jpg', '843815.jpg', '1737910.jpg', '2895265.jpg', '277935.jpg', '2021685.jpg', '3543883.jpg', '2659527.jpg', '1174196.jpg', '2214270.jpg', '773725.jpg', '2004525.jpg', '765750.jpg', '2331053.jpg', '1302764.jpg', '3587740.jpg', '1425172.jpg', '3338748.jpg', '688994.jpg', '1613878.jpg', '170385.jpg', '1457312.jpg', '309738.jpg', '923340.jpg', '1368498.jpg', '148918.jpg', '561135.jpg', '1754536.jpg', '1273611.jpg', '2402255.jpg', '1452734.jpg', '2278260.jpg', '1013418.jpg', '665556.jpg', '709321.jpg', '45517.jpg', '737630.jpg', '59362.jpg', '3059287.jpg', '2331030.jpg', '1986063.jpg', '780283.jpg', '3226272.jpg', '763924.jpg', '1591167.jpg', '302102.jpg', '342164.jpg', '3864743.jpg', '1994748.jpg', '3423192.jpg', '2152906.jpg', '742380.jpg', '3792053.jpg', '1404080.jpg', '3004029.jpg', '2290605.jpg', '1769465.jpg', '1771901.jpg', '669862.jpg', '687910.jpg', '638929.jpg', '3227285.jpg', '1919810.jpg', '77209.jpg', '185990.jpg', '2149816.jpg', '3626704.jpg', '1165660.jpg', '319682.jpg']\n"
     ]
    }
   ],
   "source": [
    "import random\n",
    "import shutil\n",
    "\n",
    "sample_number = 150\n",
    "\n",
    "for category in ['hamburger', 'pizza', 'ramen', 'sushi']:\n",
    "    if category == \"hamburger\":\n",
    "        image_list = hamburger_list\n",
    "    elif category == \"pizza\":\n",
    "        image_list = pizza_list\n",
    "    elif category == \"ramen\":\n",
    "        image_list = ramen_list\n",
    "    elif category == \"sushi\":\n",
    "        image_list = sushi_list\n",
    "    else:\n",
    "        print(\"unknown category\")\n",
    "        \n",
    "    random_sample_result = random.sample(image_list, sample_number)\n",
    "    print(random_sample_result)\n",
    "    \n",
    "    ## copy image to test folder\n",
    "    image_path_test = test_fold + category\n",
    "    image_path_train = train_fold + category\n",
    "    for imageName in image_list:\n",
    "        \n",
    "        if imageName in random_sample_result:\n",
    "            ## for images in this random sample list, copy to test folder\n",
    "            image_path_source = original_dir + category + \"/\" + imageName\n",
    "            shutil.copy(image_path_source, image_path_test)\n",
    "        else:\n",
    "            ## for the rest images, copy to train folder\n",
    "            image_path_source = original_dir + category + \"/\" + imageName\n",
    "            shutil.copy(image_path_source, image_path_train)"
   ]
  },
  {
   "cell_type": "code",
   "execution_count": null,
   "metadata": {},
   "outputs": [],
   "source": []
  }
 ],
 "metadata": {
  "kernelspec": {
   "display_name": "Python 3",
   "language": "python",
   "name": "python3"
  },
  "language_info": {
   "codemirror_mode": {
    "name": "ipython",
    "version": 3
   },
   "file_extension": ".py",
   "mimetype": "text/x-python",
   "name": "python",
   "nbconvert_exporter": "python",
   "pygments_lexer": "ipython3",
   "version": "3.7.4"
  }
 },
 "nbformat": 4,
 "nbformat_minor": 2
}
