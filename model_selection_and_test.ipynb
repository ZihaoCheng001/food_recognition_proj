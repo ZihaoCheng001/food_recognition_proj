{
 "cells": [
  {
   "cell_type": "markdown",
   "metadata": {
    "id": "Ly6VJpNkTNF6"
   },
   "source": [
    "**Objective: for all the models created, test result and combine models for majority votting. Final F1 score is 0.99**"
   ]
  },
  {
   "cell_type": "markdown",
   "metadata": {
    "id": "nsgFthduanI9"
   },
   "source": [
    "## Mount google drive to colab"
   ]
  },
  {
   "cell_type": "code",
   "execution_count": 12,
   "metadata": {
    "colab": {
     "base_uri": "https://localhost:8080/"
    },
    "executionInfo": {
     "elapsed": 932,
     "status": "ok",
     "timestamp": 1607502065246,
     "user": {
      "displayName": "zihao cheng",
      "photoUrl": "",
      "userId": "08728275809159210170"
     },
     "user_tz": -480
    },
    "id": "ti31XG9tS5fa",
    "outputId": "e951d761-4ee8-487a-807d-bd2a0dc1c79f"
   },
   "outputs": [
    {
     "name": "stdout",
     "output_type": "stream",
     "text": [
      "Drive already mounted at /content/drive; to attempt to forcibly remount, call drive.mount(\"/content/drive\", force_remount=True).\n"
     ]
    }
   ],
   "source": [
    "from google.colab import drive\n",
    "\n",
    "drive.mount(\"/content/drive\")"
   ]
  },
  {
   "cell_type": "markdown",
   "metadata": {
    "id": "jDz9G0pbhKh6"
   },
   "source": [
    "## Set to GPU"
   ]
  },
  {
   "cell_type": "code",
   "execution_count": 13,
   "metadata": {
    "colab": {
     "base_uri": "https://localhost:8080/"
    },
    "executionInfo": {
     "elapsed": 892,
     "status": "ok",
     "timestamp": 1607502069489,
     "user": {
      "displayName": "zihao cheng",
      "photoUrl": "",
      "userId": "08728275809159210170"
     },
     "user_tz": -480
    },
    "id": "s9HtoRzrhOiK",
    "outputId": "bbd383df-430a-4faa-adc8-d6cfadc45cff"
   },
   "outputs": [
    {
     "name": "stdout",
     "output_type": "stream",
     "text": [
      "[]\n"
     ]
    }
   ],
   "source": [
    "import tensorflow as tf\n",
    "\n",
    "physical_devices = tf.config.list_physical_devices('GPU')\n",
    "\n",
    "print(physical_devices)\n",
    "\n",
    "if len(physical_devices) >= 1:\n",
    "    tf.config.experimental.set_memory_growth(physical_devices[0], True)"
   ]
  },
  {
   "cell_type": "markdown",
   "metadata": {
    "id": "UGsgP2pbWUT9"
   },
   "source": [
    "## load test images"
   ]
  },
  {
   "cell_type": "code",
   "execution_count": 14,
   "metadata": {
    "executionInfo": {
     "elapsed": 968,
     "status": "ok",
     "timestamp": 1607502072539,
     "user": {
      "displayName": "zihao cheng",
      "photoUrl": "",
      "userId": "08728275809159210170"
     },
     "user_tz": -480
    },
    "id": "tvql7unkWYRD"
   },
   "outputs": [],
   "source": [
    "import matplotlib.pyplot as plt\n",
    "import numpy as np\n",
    "import os\n",
    "import tensorflow as tf\n",
    "from tensorflow import keras\n",
    "import pandas as pd"
   ]
  },
  {
   "cell_type": "code",
   "execution_count": 15,
   "metadata": {
    "colab": {
     "base_uri": "https://localhost:8080/"
    },
    "executionInfo": {
     "elapsed": 878,
     "status": "ok",
     "timestamp": 1607502077337,
     "user": {
      "displayName": "zihao cheng",
      "photoUrl": "",
      "userId": "08728275809159210170"
     },
     "user_tz": -480
    },
    "id": "PoDVBITEhISu",
    "outputId": "31bcce42-cf0e-48fb-d5da-bffd4e2f033b"
   },
   "outputs": [
    {
     "name": "stdout",
     "output_type": "stream",
     "text": [
      "there are 150 test images with label hamburger\n",
      "there are 150 test images with label pizza\n",
      "there are 150 test images with label ramen\n",
      "there are 150 test images with label sushi\n"
     ]
    }
   ],
   "source": [
    "from os import listdir\n",
    "\n",
    "## get test image names and ground truth labels\n",
    "\n",
    "test_image_name_list = []\n",
    "\n",
    "test_image_label_list = []\n",
    "\n",
    "test_image_dir = \"/content/drive/MyDrive/HPE_Proj/food_recognition_proj/images/test\"\n",
    "## note: if running in local, use the path below:\n",
    "## test_image_dir = \"images/test\"\n",
    "\n",
    "category_list = ['hamburger', 'pizza', 'ramen', 'sushi']\n",
    "\n",
    "for category in category_list:\n",
    "    image_fold = test_image_dir + \"/\" + category\n",
    "    files = listdir(image_fold)\n",
    "\n",
    "    test_image_name_list = test_image_name_list + files\n",
    "    test_image_label_list = test_image_label_list + [category] * len(files)\n",
    "\n",
    "    print(\"there are {} test images with label {}\".format(len(files), category))"
   ]
  },
  {
   "cell_type": "markdown",
   "metadata": {
    "id": "8t6xOk5-q6IZ"
   },
   "source": [
    "## define model prediction function"
   ]
  },
  {
   "cell_type": "code",
   "execution_count": 16,
   "metadata": {
    "executionInfo": {
     "elapsed": 968,
     "status": "ok",
     "timestamp": 1607502087143,
     "user": {
      "displayName": "zihao cheng",
      "photoUrl": "",
      "userId": "08728275809159210170"
     },
     "user_tz": -480
    },
    "id": "HZ3RdJSirBTY"
   },
   "outputs": [],
   "source": [
    "image_size = (256, 256, 3)\n",
    "\n",
    "def predictResult(input_model, input_image_path):\n",
    "    '''\n",
    "    perform prediction, get predict category and probability\n",
    "    '''\n",
    "    image = keras.preprocessing.image.load_img(path=input_image_path, target_size = image_size )\n",
    "    image_tensor = keras.preprocessing.image.img_to_array(image)\n",
    "    predictProbabilities = input_model(image_tensor, training=False).numpy()\n",
    "\n",
    "    #print(predictProbabilities)\n",
    "    predict_index = predictProbabilities[0].argmax(axis=-1)\n",
    "    #print(\"predict index is \", predict_index)\n",
    "    predict_category = category_list[predict_index]\n",
    "    probability = predictProbabilities[0][predict_index]\n",
    "\n",
    "    return predict_category, probability\n",
    "    "
   ]
  },
  {
   "cell_type": "markdown",
   "metadata": {
    "id": "XHU3Aa76WY_x"
   },
   "source": [
    "## Model 1: ResNet. "
   ]
  },
  {
   "cell_type": "code",
   "execution_count": 17,
   "metadata": {
    "colab": {
     "base_uri": "https://localhost:8080/"
    },
    "executionInfo": {
     "elapsed": 82017,
     "status": "ok",
     "timestamp": 1607502172574,
     "user": {
      "displayName": "zihao cheng",
      "photoUrl": "",
      "userId": "08728275809159210170"
     },
     "user_tz": -480
    },
    "id": "N3SPE9uaWjKz",
    "outputId": "a4f7559f-ee3b-495a-ad2e-9280defacc5e"
   },
   "outputs": [
    {
     "name": "stdout",
     "output_type": "stream",
     "text": [
      "Model: \"functional_13\"\n",
      "_________________________________________________________________\n",
      "Layer (type)                 Output Shape              Param #   \n",
      "=================================================================\n",
      "input_14 (InputLayer)        [(None, 256, 256, 3)]     0         \n",
      "_________________________________________________________________\n",
      "sequential (Sequential)      (None, 256, 256, 3)       0         \n",
      "_________________________________________________________________\n",
      "normalization_6 (Normalizati (None, 256, 256, 3)       7         \n",
      "_________________________________________________________________\n",
      "resnet152v2 (Functional)     (None, 8, 8, 2048)        58331648  \n",
      "_________________________________________________________________\n",
      "global_average_pooling2d_6 ( (None, 2048)              0         \n",
      "_________________________________________________________________\n",
      "dropout_6 (Dropout)          (None, 2048)              0         \n",
      "_________________________________________________________________\n",
      "dense_6 (Dense)              (None, 4)                 8196      \n",
      "_________________________________________________________________\n",
      "softmax_6 (Softmax)          (None, 4)                 0         \n",
      "=================================================================\n",
      "Total params: 58,339,851\n",
      "Trainable params: 58,196,100\n",
      "Non-trainable params: 143,751\n",
      "_________________________________________________________________\n"
     ]
    }
   ],
   "source": [
    "resnet_model_path = \"/content/drive/MyDrive/HPE_Proj/food_recognition_proj/ResNet_model_03\"\n",
    "## if run in local, use the path below:\n",
    "## resnet_model_path = \"ResNet_model_03\"\n",
    "\n",
    "model_resnet = keras.models.load_model(resnet_model_path)\n",
    "model_resnet.summary()\n"
   ]
  },
  {
   "cell_type": "code",
   "execution_count": 18,
   "metadata": {
    "colab": {
     "base_uri": "https://localhost:8080/"
    },
    "executionInfo": {
     "elapsed": 448548,
     "status": "ok",
     "timestamp": 1607502879393,
     "user": {
      "displayName": "zihao cheng",
      "photoUrl": "",
      "userId": "08728275809159210170"
     },
     "user_tz": -480
    },
    "id": "XiImkS9pvccB",
    "outputId": "5d54f985-5972-48f3-f3ef-9693987ac951"
   },
   "outputs": [
    {
     "name": "stdout",
     "output_type": "stream",
     "text": [
      "CPU times: user 12min 25s, sys: 18.2 s, total: 12min 43s\n",
      "Wall time: 7min 27s\n"
     ]
    }
   ],
   "source": [
    "%%time\n",
    "predictResult_resnet = []\n",
    "\n",
    "predictProbability_resnet = []\n",
    "\n",
    "for i in range(len(test_image_name_list)):\n",
    "    image_path = test_image_dir + \"/\" + test_image_label_list[i] + \"/\" + test_image_name_list[i]  # get image path\n",
    "    predict_category, predict_probability = predictResult(model_resnet, image_path)               # get predict result and probability\n",
    "    #print(\"input image is \", image_path)\n",
    "    #print(\"Predict result is {}, the probability is {}\".format(predict_category, predict_probability) )\n",
    "\n",
    "    predictResult_resnet.append(predict_category)\n",
    "    predictProbability_resnet.append(predict_probability)\n"
   ]
  },
  {
   "cell_type": "code",
   "execution_count": 19,
   "metadata": {
    "colab": {
     "base_uri": "https://localhost:8080/"
    },
    "executionInfo": {
     "elapsed": 1123,
     "status": "ok",
     "timestamp": 1607502880546,
     "user": {
      "displayName": "zihao cheng",
      "photoUrl": "",
      "userId": "08728275809159210170"
     },
     "user_tz": -480
    },
    "id": "nxdXp7J6M0gf",
    "outputId": "cf73b34a-925d-4061-dfa2-2a0d2fddaaa6"
   },
   "outputs": [
    {
     "name": "stdout",
     "output_type": "stream",
     "text": [
      "number of test images is 600\n"
     ]
    }
   ],
   "source": [
    "if len(predictResult_resnet) != len(test_image_name_list):\n",
    "    raise Exception(\"Error, some images are missed\")\n",
    "\n",
    "print(\"number of test images is {}\".format(len(predictResult_resnet)))"
   ]
  },
  {
   "cell_type": "markdown",
   "metadata": {
    "id": "XE3WE7RbN80e"
   },
   "source": [
    "### generate classification report for ResNet Model"
   ]
  },
  {
   "cell_type": "code",
   "execution_count": 20,
   "metadata": {
    "colab": {
     "base_uri": "https://localhost:8080/"
    },
    "executionInfo": {
     "elapsed": 2064,
     "status": "ok",
     "timestamp": 1607502881499,
     "user": {
      "displayName": "zihao cheng",
      "photoUrl": "",
      "userId": "08728275809159210170"
     },
     "user_tz": -480
    },
    "id": "RlLVO0O0N6et",
    "outputId": "53a631b0-a14a-4f23-97a9-5d51d926bdb5"
   },
   "outputs": [
    {
     "name": "stdout",
     "output_type": "stream",
     "text": [
      "              precision    recall  f1-score   support\n",
      "\n",
      "   hamburger       0.99      0.99      0.99       150\n",
      "       pizza       0.99      0.94      0.97       150\n",
      "       ramen       0.95      1.00      0.97       150\n",
      "       sushi       0.99      0.98      0.98       150\n",
      "\n",
      "    accuracy                           0.98       600\n",
      "   macro avg       0.98      0.98      0.98       600\n",
      "weighted avg       0.98      0.98      0.98       600\n",
      "\n"
     ]
    }
   ],
   "source": [
    "from sklearn.metrics import classification_report\n",
    "\n",
    "## based on ground truth labels and prediction result, get the classification report\n",
    "print(classification_report(test_image_label_list, predictResult_resnet))"
   ]
  },
  {
   "cell_type": "code",
   "execution_count": 21,
   "metadata": {
    "colab": {
     "base_uri": "https://localhost:8080/"
    },
    "executionInfo": {
     "elapsed": 937,
     "status": "ok",
     "timestamp": 1607502950788,
     "user": {
      "displayName": "zihao cheng",
      "photoUrl": "",
      "userId": "08728275809159210170"
     },
     "user_tz": -480
    },
    "id": "CpbHmnT9O9u5",
    "outputId": "2cc79d02-7e42-47b6-89c6-80e0a1893f56"
   },
   "outputs": [
    {
     "name": "stdout",
     "output_type": "stream",
     "text": [
      "As shown in the classification report above, the weighted F1-score for ResNet model is 0.98\n"
     ]
    }
   ],
   "source": [
    "print(\"As shown in the classification report above, the weighted F1-score for ResNet model is 0.98\")"
   ]
  },
  {
   "cell_type": "markdown",
   "metadata": {
    "id": "oy0gUu3LWjvm"
   },
   "source": [
    "## Model 2: Inception"
   ]
  },
  {
   "cell_type": "code",
   "execution_count": 22,
   "metadata": {
    "colab": {
     "base_uri": "https://localhost:8080/"
    },
    "executionInfo": {
     "elapsed": 41689,
     "status": "ok",
     "timestamp": 1607503003536,
     "user": {
      "displayName": "zihao cheng",
      "photoUrl": "",
      "userId": "08728275809159210170"
     },
     "user_tz": -480
    },
    "id": "uZk31wsQWpsG",
    "outputId": "e4134abd-b78a-4a08-cabc-43622b4294bd"
   },
   "outputs": [
    {
     "name": "stdout",
     "output_type": "stream",
     "text": [
      "Model: \"functional_17\"\n",
      "_________________________________________________________________\n",
      "Layer (type)                 Output Shape              Param #   \n",
      "=================================================================\n",
      "input_18 (InputLayer)        [(None, 256, 256, 3)]     0         \n",
      "_________________________________________________________________\n",
      "sequential (Sequential)      (None, 256, 256, 3)       0         \n",
      "_________________________________________________________________\n",
      "normalization_8 (Normalizati (None, 256, 256, 3)       7         \n",
      "_________________________________________________________________\n",
      "inception_v3 (Functional)    (None, 6, 6, 2048)        21802784  \n",
      "_________________________________________________________________\n",
      "global_average_pooling2d_8 ( (None, 2048)              0         \n",
      "_________________________________________________________________\n",
      "dropout_8 (Dropout)          (None, 2048)              0         \n",
      "_________________________________________________________________\n",
      "dense_8 (Dense)              (None, 4)                 8196      \n",
      "_________________________________________________________________\n",
      "softmax_8 (Softmax)          (None, 4)                 0         \n",
      "=================================================================\n",
      "Total params: 21,810,987\n",
      "Trainable params: 21,776,548\n",
      "Non-trainable params: 34,439\n",
      "_________________________________________________________________\n"
     ]
    }
   ],
   "source": [
    "inception_model_path = \"/content/drive/MyDrive/HPE_Proj/food_recognition_proj/Inception_model_03\"\n",
    "# inception_model_path = \"Inception_model_03\"\n",
    "\n",
    "model_inception = keras.models.load_model(inception_model_path)\n",
    "model_inception.summary()\n"
   ]
  },
  {
   "cell_type": "code",
   "execution_count": 23,
   "metadata": {
    "colab": {
     "base_uri": "https://localhost:8080/"
    },
    "executionInfo": {
     "elapsed": 182026,
     "status": "ok",
     "timestamp": 1607503149985,
     "user": {
      "displayName": "zihao cheng",
      "photoUrl": "",
      "userId": "08728275809159210170"
     },
     "user_tz": -480
    },
    "id": "7Aw0x1fvQJsu",
    "outputId": "80b514d4-c5e0-48a1-9654-ecca7b7f4503"
   },
   "outputs": [
    {
     "name": "stdout",
     "output_type": "stream",
     "text": [
      "CPU times: user 3min 42s, sys: 5.48 s, total: 3min 47s\n",
      "Wall time: 2min 26s\n"
     ]
    }
   ],
   "source": [
    "%%time\n",
    "predictResult_inception = []\n",
    "\n",
    "predictProbability_inception = []\n",
    "\n",
    "for i in range(len(test_image_name_list)):\n",
    "    image_path = test_image_dir + \"/\" + test_image_label_list[i] + \"/\" + test_image_name_list[i]  # get image path\n",
    "    predict_category, predict_probability = predictResult(model_inception, image_path)               # get predict result and probability\n",
    "    #print(\"input image is \", image_path)\n",
    "    #print(\"Predict result is {}, the probability is {}\".format(predict_category, predict_probability) )\n",
    "\n",
    "    predictResult_inception.append(predict_category)\n",
    "    predictProbability_inception.append(predict_probability)"
   ]
  },
  {
   "cell_type": "code",
   "execution_count": 24,
   "metadata": {
    "colab": {
     "base_uri": "https://localhost:8080/"
    },
    "executionInfo": {
     "elapsed": 971,
     "status": "ok",
     "timestamp": 1607503150973,
     "user": {
      "displayName": "zihao cheng",
      "photoUrl": "",
      "userId": "08728275809159210170"
     },
     "user_tz": -480
    },
    "id": "px9xZLgKQepZ",
    "outputId": "49ae771e-b212-4ee6-e417-be5772b4a16a"
   },
   "outputs": [
    {
     "name": "stdout",
     "output_type": "stream",
     "text": [
      "number of test images is 600\n"
     ]
    }
   ],
   "source": [
    "if len(predictResult_inception) != len(test_image_name_list):\n",
    "    raise Exception(\"Error, some images are missed\")\n",
    "\n",
    "print(\"number of test images is {}\".format(len(predictResult_inception)))"
   ]
  },
  {
   "cell_type": "markdown",
   "metadata": {
    "id": "BOubUs3CQu-Y"
   },
   "source": [
    "### generate classification report for Inception model"
   ]
  },
  {
   "cell_type": "code",
   "execution_count": 25,
   "metadata": {
    "colab": {
     "base_uri": "https://localhost:8080/"
    },
    "executionInfo": {
     "elapsed": 964,
     "status": "ok",
     "timestamp": 1607503150975,
     "user": {
      "displayName": "zihao cheng",
      "photoUrl": "",
      "userId": "08728275809159210170"
     },
     "user_tz": -480
    },
    "id": "nkMP3dE5QqAr",
    "outputId": "d85d87a9-2e14-48cb-881f-288039d91995"
   },
   "outputs": [
    {
     "name": "stdout",
     "output_type": "stream",
     "text": [
      "              precision    recall  f1-score   support\n",
      "\n",
      "   hamburger       0.96      0.99      0.97       150\n",
      "       pizza       0.99      0.97      0.98       150\n",
      "       ramen       0.97      1.00      0.99       150\n",
      "       sushi       0.99      0.96      0.97       150\n",
      "\n",
      "    accuracy                           0.98       600\n",
      "   macro avg       0.98      0.98      0.98       600\n",
      "weighted avg       0.98      0.98      0.98       600\n",
      "\n"
     ]
    }
   ],
   "source": [
    "from sklearn.metrics import classification_report\n",
    "\n",
    "## based on ground truth labels and prediction result, get the classification report\n",
    "print(classification_report(test_image_label_list, predictResult_inception))"
   ]
  },
  {
   "cell_type": "code",
   "execution_count": 26,
   "metadata": {
    "colab": {
     "base_uri": "https://localhost:8080/"
    },
    "executionInfo": {
     "elapsed": 955,
     "status": "ok",
     "timestamp": 1607503150976,
     "user": {
      "displayName": "zihao cheng",
      "photoUrl": "",
      "userId": "08728275809159210170"
     },
     "user_tz": -480
    },
    "id": "xUkxa16MRwJ5",
    "outputId": "cec1b03a-2623-4fe5-9981-b60b5bf60cf0"
   },
   "outputs": [
    {
     "name": "stdout",
     "output_type": "stream",
     "text": [
      "As shown in the classification report above, the weighted F1-score for Inception model is 0.98\n"
     ]
    }
   ],
   "source": [
    "print(\"As shown in the classification report above, the weighted F1-score for Inception model is 0.98\")"
   ]
  },
  {
   "cell_type": "markdown",
   "metadata": {
    "id": "ppxHS7QRWqTH"
   },
   "source": [
    "## Model 3: Xception"
   ]
  },
  {
   "cell_type": "code",
   "execution_count": 27,
   "metadata": {
    "colab": {
     "base_uri": "https://localhost:8080/"
    },
    "executionInfo": {
     "elapsed": 17875,
     "status": "ok",
     "timestamp": 1607503663101,
     "user": {
      "displayName": "zihao cheng",
      "photoUrl": "",
      "userId": "08728275809159210170"
     },
     "user_tz": -480
    },
    "id": "_bKge_WRWvvY",
    "outputId": "dfa90ffa-5d09-420b-de6e-2271552b56bb"
   },
   "outputs": [
    {
     "name": "stdout",
     "output_type": "stream",
     "text": [
      "Model: \"functional_31\"\n",
      "_________________________________________________________________\n",
      "Layer (type)                 Output Shape              Param #   \n",
      "=================================================================\n",
      "input_32 (InputLayer)        [(None, 256, 256, 3)]     0         \n",
      "_________________________________________________________________\n",
      "sequential (Sequential)      (None, 256, 256, 3)       0         \n",
      "_________________________________________________________________\n",
      "normalization_15 (Normalizat (None, 256, 256, 3)       7         \n",
      "_________________________________________________________________\n",
      "xception (Functional)        (None, 8, 8, 2048)        20861480  \n",
      "_________________________________________________________________\n",
      "global_average_pooling2d_15  (None, 2048)              0         \n",
      "_________________________________________________________________\n",
      "dropout_15 (Dropout)         (None, 2048)              0         \n",
      "_________________________________________________________________\n",
      "dense_15 (Dense)             (None, 4)                 8196      \n",
      "_________________________________________________________________\n",
      "softmax_15 (Softmax)         (None, 4)                 0         \n",
      "=================================================================\n",
      "Total params: 20,869,683\n",
      "Trainable params: 20,815,148\n",
      "Non-trainable params: 54,535\n",
      "_________________________________________________________________\n"
     ]
    }
   ],
   "source": [
    "xception_model_path = \"/content/drive/MyDrive/HPE_Proj/food_recognition_proj/Xception_model_03\"\n",
    "# xception_model_path = \"Xception_model_03\"\n",
    "\n",
    "model_xception = keras.models.load_model(xception_model_path)\n",
    "model_xception.summary()"
   ]
  },
  {
   "cell_type": "code",
   "execution_count": 28,
   "metadata": {
    "colab": {
     "base_uri": "https://localhost:8080/"
    },
    "executionInfo": {
     "elapsed": 233948,
     "status": "ok",
     "timestamp": 1607503884860,
     "user": {
      "displayName": "zihao cheng",
      "photoUrl": "",
      "userId": "08728275809159210170"
     },
     "user_tz": -480
    },
    "id": "A8XQLvJZRkCu",
    "outputId": "6251a418-bbf6-4952-d890-17e357e6e368"
   },
   "outputs": [
    {
     "name": "stdout",
     "output_type": "stream",
     "text": [
      "CPU times: user 6min 19s, sys: 7.53 s, total: 6min 27s\n",
      "Wall time: 3min 41s\n"
     ]
    }
   ],
   "source": [
    "%%time\n",
    "predictResult_xception = []\n",
    "\n",
    "predictProbability_xception = []\n",
    "\n",
    "for i in range(len(test_image_name_list)):\n",
    "    image_path = test_image_dir + \"/\" + test_image_label_list[i] + \"/\" + test_image_name_list[i]  # get image path\n",
    "    predict_category, predict_probability = predictResult(model_xception, image_path)               # get predict result and probability\n",
    "    #print(\"input image is \", image_path)\n",
    "    #print(\"Predict result is {}, the probability is {}\".format(predict_category, predict_probability) )\n",
    "\n",
    "    predictResult_xception.append(predict_category)\n",
    "    predictProbability_xception.append(predict_probability)"
   ]
  },
  {
   "cell_type": "markdown",
   "metadata": {
    "id": "ZRw4dKxQR_LR"
   },
   "source": [
    "### generate classification report for Xception model"
   ]
  },
  {
   "cell_type": "code",
   "execution_count": 29,
   "metadata": {
    "colab": {
     "base_uri": "https://localhost:8080/"
    },
    "executionInfo": {
     "elapsed": 217272,
     "status": "ok",
     "timestamp": 1607503884864,
     "user": {
      "displayName": "zihao cheng",
      "photoUrl": "",
      "userId": "08728275809159210170"
     },
     "user_tz": -480
    },
    "id": "nkZt_oflR7jO",
    "outputId": "953d10ea-9d22-4523-edf5-8ca7585aca28"
   },
   "outputs": [
    {
     "name": "stdout",
     "output_type": "stream",
     "text": [
      "              precision    recall  f1-score   support\n",
      "\n",
      "   hamburger       0.99      0.98      0.99       150\n",
      "       pizza       0.98      0.99      0.98       150\n",
      "       ramen       0.97      0.99      0.98       150\n",
      "       sushi       0.98      0.97      0.98       150\n",
      "\n",
      "    accuracy                           0.98       600\n",
      "   macro avg       0.98      0.98      0.98       600\n",
      "weighted avg       0.98      0.98      0.98       600\n",
      "\n"
     ]
    }
   ],
   "source": [
    "from sklearn.metrics import classification_report\n",
    "\n",
    "## based on ground truth labels and prediction result, get the classification report\n",
    "print(classification_report(test_image_label_list, predictResult_xception))"
   ]
  },
  {
   "cell_type": "code",
   "execution_count": 30,
   "metadata": {
    "colab": {
     "base_uri": "https://localhost:8080/"
    },
    "executionInfo": {
     "elapsed": 212835,
     "status": "ok",
     "timestamp": 1607503884867,
     "user": {
      "displayName": "zihao cheng",
      "photoUrl": "",
      "userId": "08728275809159210170"
     },
     "user_tz": -480
    },
    "id": "uLfhGlnBSUKo",
    "outputId": "2f3d7e1f-2189-4542-aaa9-c18b35c8c92c"
   },
   "outputs": [
    {
     "name": "stdout",
     "output_type": "stream",
     "text": [
      "As shown in the classification report above, the weighted F1-score for Xception model is 0.98\n"
     ]
    }
   ],
   "source": [
    "print(\"As shown in the classification report above, the weighted F1-score for Xception model is 0.98\")"
   ]
  },
  {
   "cell_type": "markdown",
   "metadata": {
    "id": "Weg6D-_VMHO_"
   },
   "source": [
    "## Model 4: InceptionResNet"
   ]
  },
  {
   "cell_type": "code",
   "execution_count": 31,
   "metadata": {
    "colab": {
     "base_uri": "https://localhost:8080/"
    },
    "executionInfo": {
     "elapsed": 142914,
     "status": "ok",
     "timestamp": 1607504027826,
     "user": {
      "displayName": "zihao cheng",
      "photoUrl": "",
      "userId": "08728275809159210170"
     },
     "user_tz": -480
    },
    "id": "UpoBDVi4ML6G",
    "outputId": "308543e7-ba2f-4b3b-d56c-587b87dc35fd"
   },
   "outputs": [
    {
     "name": "stdout",
     "output_type": "stream",
     "text": [
      "Model: \"functional_57\"\n",
      "_________________________________________________________________\n",
      "Layer (type)                 Output Shape              Param #   \n",
      "=================================================================\n",
      "input_58 (InputLayer)        [(None, 256, 256, 3)]     0         \n",
      "_________________________________________________________________\n",
      "sequential (Sequential)      (None, 256, 256, 3)       0         \n",
      "_________________________________________________________________\n",
      "normalization_28 (Normalizat (None, 256, 256, 3)       7         \n",
      "_________________________________________________________________\n",
      "inception_resnet_v2 (Functio (None, 6, 6, 1536)        54336736  \n",
      "_________________________________________________________________\n",
      "global_average_pooling2d_28  (None, 1536)              0         \n",
      "_________________________________________________________________\n",
      "dropout_28 (Dropout)         (None, 1536)              0         \n",
      "_________________________________________________________________\n",
      "dense_28 (Dense)             (None, 4)                 6148      \n",
      "_________________________________________________________________\n",
      "softmax_28 (Softmax)         (None, 4)                 0         \n",
      "=================================================================\n",
      "Total params: 54,342,891\n",
      "Trainable params: 54,282,340\n",
      "Non-trainable params: 60,551\n",
      "_________________________________________________________________\n"
     ]
    }
   ],
   "source": [
    "inceptionResNet_model_path = \"/content/drive/MyDrive/HPE_Proj/food_recognition_proj/InceptionResNet_model_03\"\n",
    "# inceptionResNet_model_path = \"InceptionResNet_model_03\"\n",
    "\n",
    "model_inceptionResNet = keras.models.load_model(inceptionResNet_model_path)\n",
    "model_inceptionResNet.summary()"
   ]
  },
  {
   "cell_type": "code",
   "execution_count": 32,
   "metadata": {
    "colab": {
     "base_uri": "https://localhost:8080/"
    },
    "executionInfo": {
     "elapsed": 488144,
     "status": "ok",
     "timestamp": 1607504373070,
     "user": {
      "displayName": "zihao cheng",
      "photoUrl": "",
      "userId": "08728275809159210170"
     },
     "user_tz": -480
    },
    "id": "9yUsSdxmTK-z",
    "outputId": "5e9e42f9-d614-4cc2-8bb3-82efe19bd564"
   },
   "outputs": [
    {
     "name": "stdout",
     "output_type": "stream",
     "text": [
      "CPU times: user 8min 38s, sys: 15.9 s, total: 8min 54s\n",
      "Wall time: 5min 45s\n"
     ]
    }
   ],
   "source": [
    "%%time\n",
    "predictResult_inceptionResNet = []\n",
    "\n",
    "predictProbability_inceptionResNet = []\n",
    "\n",
    "for i in range(len(test_image_name_list)):\n",
    "    image_path = test_image_dir + \"/\" + test_image_label_list[i] + \"/\" + test_image_name_list[i]  # get image path\n",
    "    predict_category, predict_probability = predictResult(model_inceptionResNet, image_path)               # get predict result and probability\n",
    "    #print(\"input image is \", image_path)\n",
    "    #print(\"Predict result is {}, the probability is {}\".format(predict_category, predict_probability) )\n",
    "\n",
    "    predictResult_inceptionResNet.append(predict_category)\n",
    "    predictProbability_inceptionResNet.append(predict_probability)"
   ]
  },
  {
   "cell_type": "markdown",
   "metadata": {
    "id": "Rm7wTGWiTZkV"
   },
   "source": [
    "### generate classification report for inceptionResNet model"
   ]
  },
  {
   "cell_type": "code",
   "execution_count": 33,
   "metadata": {
    "colab": {
     "base_uri": "https://localhost:8080/"
    },
    "executionInfo": {
     "elapsed": 488137,
     "status": "ok",
     "timestamp": 1607504373072,
     "user": {
      "displayName": "zihao cheng",
      "photoUrl": "",
      "userId": "08728275809159210170"
     },
     "user_tz": -480
    },
    "id": "62UoIyR5TWXy",
    "outputId": "2096f13c-c83b-4b25-b532-58b49841cbd3"
   },
   "outputs": [
    {
     "name": "stdout",
     "output_type": "stream",
     "text": [
      "              precision    recall  f1-score   support\n",
      "\n",
      "   hamburger       0.98      0.97      0.97       150\n",
      "       pizza       1.00      0.97      0.98       150\n",
      "       ramen       0.96      1.00      0.98       150\n",
      "       sushi       0.97      0.97      0.97       150\n",
      "\n",
      "    accuracy                           0.97       600\n",
      "   macro avg       0.98      0.98      0.98       600\n",
      "weighted avg       0.98      0.97      0.98       600\n",
      "\n"
     ]
    }
   ],
   "source": [
    "from sklearn.metrics import classification_report\n",
    "\n",
    "## based on ground truth labels and prediction result, get the classification report\n",
    "print(classification_report(test_image_label_list, predictResult_inceptionResNet))"
   ]
  },
  {
   "cell_type": "code",
   "execution_count": 34,
   "metadata": {
    "colab": {
     "base_uri": "https://localhost:8080/"
    },
    "executionInfo": {
     "elapsed": 488130,
     "status": "ok",
     "timestamp": 1607504373073,
     "user": {
      "displayName": "zihao cheng",
      "photoUrl": "",
      "userId": "08728275809159210170"
     },
     "user_tz": -480
    },
    "id": "uuIuUPFiVi0O",
    "outputId": "c7426609-f77b-482e-cdf0-edb8db5ef1a0"
   },
   "outputs": [
    {
     "name": "stdout",
     "output_type": "stream",
     "text": [
      "As shown in the classification report above, the weighted F1-score for InceptionResNet model is 0.98\n"
     ]
    }
   ],
   "source": [
    "print(\"As shown in the classification report above, the weighted F1-score for InceptionResNet model is 0.98\")"
   ]
  },
  {
   "cell_type": "markdown",
   "metadata": {
    "id": "wSrfRG1vW7_h"
   },
   "source": [
    "## Combine the top 3 best models: ResNet, Inception and Xception to perform majority votting"
   ]
  },
  {
   "cell_type": "code",
   "execution_count": 37,
   "metadata": {
    "executionInfo": {
     "elapsed": 952,
     "status": "ok",
     "timestamp": 1607504490735,
     "user": {
      "displayName": "zihao cheng",
      "photoUrl": "",
      "userId": "08728275809159210170"
     },
     "user_tz": -480
    },
    "id": "5lG_y3l3XFWY"
   },
   "outputs": [],
   "source": [
    "## Majority votting from ResNet, Inception and Xception models\n",
    "\n",
    "def processVottingData(categories, probabilities):\n",
    "    counter = 0\n",
    "    category = None\n",
    "    for i in categories:\n",
    "        curr_frequency = categories.count(i)\n",
    "        if (curr_frequency) > counter:\n",
    "            counter = curr_frequency\n",
    "            category = i\n",
    "    \n",
    "    if counter == 1:\n",
    "        # if the max counter is 1, then we select the category which has max prediction probabilities. \n",
    "        index = probabilities.index(max(probabilities))\n",
    "        return categories[index]\n",
    "    else:\n",
    "        # else return the category with the most frequency\n",
    "        return category\n",
    "\n",
    "predictResult_votting = []\n",
    "\n",
    "for i in range(len(test_image_name_list)):\n",
    "    temp_category = []\n",
    "    temp_probability = []\n",
    "    ## add predictions from ResNet, Inception and Xception into temp_category\n",
    "    temp_category.append(predictResult_resnet[i])\n",
    "    temp_category.append(predictResult_inception[i])\n",
    "    temp_category.append(predictResult_xception[i])\n",
    "\n",
    "    ## add probabilities from ResNet, Inception and Xception into temp_probability\n",
    "    temp_probability.append(predictProbability_resnet[i])\n",
    "    temp_probability.append(predictProbability_inception[i])\n",
    "    temp_probability.append(predictProbability_xception[i])\n",
    "\n",
    "    ## get votting\n",
    "    votting_category = processVottingData(temp_category, temp_probability)\n",
    "    predictResult_votting.append(votting_category)\n",
    "    \n"
   ]
  },
  {
   "cell_type": "markdown",
   "metadata": {
    "id": "RpiZSj6DlUmN"
   },
   "source": [
    "### get classification report for votting"
   ]
  },
  {
   "cell_type": "code",
   "execution_count": 38,
   "metadata": {
    "colab": {
     "base_uri": "https://localhost:8080/"
    },
    "executionInfo": {
     "elapsed": 932,
     "status": "ok",
     "timestamp": 1607504503638,
     "user": {
      "displayName": "zihao cheng",
      "photoUrl": "",
      "userId": "08728275809159210170"
     },
     "user_tz": -480
    },
    "id": "H2R7Ew9BlOX7",
    "outputId": "67683ef3-91ae-4589-dfa3-ad5dc7e5d99f"
   },
   "outputs": [
    {
     "name": "stdout",
     "output_type": "stream",
     "text": [
      "              precision    recall  f1-score   support\n",
      "\n",
      "   hamburger       0.99      0.99      0.99       150\n",
      "       pizza       1.00      0.98      0.99       150\n",
      "       ramen       0.97      1.00      0.99       150\n",
      "       sushi       0.99      0.99      0.99       150\n",
      "\n",
      "    accuracy                           0.99       600\n",
      "   macro avg       0.99      0.99      0.99       600\n",
      "weighted avg       0.99      0.99      0.99       600\n",
      "\n"
     ]
    }
   ],
   "source": [
    "## get the votting result\n",
    "print(classification_report(test_image_label_list, predictResult_votting))"
   ]
  },
  {
   "cell_type": "code",
   "execution_count": 39,
   "metadata": {
    "colab": {
     "base_uri": "https://localhost:8080/"
    },
    "executionInfo": {
     "elapsed": 883,
     "status": "ok",
     "timestamp": 1607504516776,
     "user": {
      "displayName": "zihao cheng",
      "photoUrl": "",
      "userId": "08728275809159210170"
     },
     "user_tz": -480
    },
    "id": "qILjwMdOsCcK",
    "outputId": "294e04f5-9dfe-415a-9f3d-e1aa5f5d069f"
   },
   "outputs": [
    {
     "name": "stdout",
     "output_type": "stream",
     "text": [
      "From majority votting, the weighted F1-score is 0.99\n"
     ]
    }
   ],
   "source": [
    "print(\"From majority votting, the weighted F1-score is 0.99\")"
   ]
  },
  {
   "cell_type": "markdown",
   "metadata": {
    "id": "rryl9f4lloQv"
   },
   "source": [
    "## save all the predictions to csv file"
   ]
  },
  {
   "cell_type": "code",
   "execution_count": 42,
   "metadata": {
    "executionInfo": {
     "elapsed": 898,
     "status": "ok",
     "timestamp": 1607504610301,
     "user": {
      "displayName": "zihao cheng",
      "photoUrl": "",
      "userId": "08728275809159210170"
     },
     "user_tz": -480
    },
    "id": "AfC-hp3almtf"
   },
   "outputs": [],
   "source": [
    "import pandas as pd\n",
    "\n",
    "result_dict = {\"image name\" : test_image_name_list,\n",
    "               \"ground truth\": test_image_label_list,\n",
    "               \"ResNet pred\": predictResult_resnet,\n",
    "               \"ResNet pred proba\": predictProbability_resnet,\n",
    "               \"Inception pred\": predictResult_inception,\n",
    "               \"Inception pred proba\": predictProbability_inception,\n",
    "               \"Xception pred\": predictResult_xception,\n",
    "               \"Xception pred proba\": predictProbability_xception,\n",
    "               \"IceptionResNet pred\": predictResult_inceptionResNet,\n",
    "               \"IceptionResNet pred proba\": predictProbability_inceptionResNet,\n",
    "               \"votting based on ResNet, Inception, Xception\": predictResult_votting\n",
    "               }\n",
    "\n",
    "df = pd.DataFrame(result_dict)"
   ]
  },
  {
   "cell_type": "code",
   "execution_count": 43,
   "metadata": {
    "colab": {
     "base_uri": "https://localhost:8080/",
     "height": 221
    },
    "executionInfo": {
     "elapsed": 1153,
     "status": "ok",
     "timestamp": 1607504614216,
     "user": {
      "displayName": "zihao cheng",
      "photoUrl": "",
      "userId": "08728275809159210170"
     },
     "user_tz": -480
    },
    "id": "GmSG5VX8tSxT",
    "outputId": "bfd6759c-548c-46b6-fcdc-dd51ab8a23a0"
   },
   "outputs": [
    {
     "data": {
      "text/html": [
       "<div>\n",
       "<style scoped>\n",
       "    .dataframe tbody tr th:only-of-type {\n",
       "        vertical-align: middle;\n",
       "    }\n",
       "\n",
       "    .dataframe tbody tr th {\n",
       "        vertical-align: top;\n",
       "    }\n",
       "\n",
       "    .dataframe thead th {\n",
       "        text-align: right;\n",
       "    }\n",
       "</style>\n",
       "<table border=\"1\" class=\"dataframe\">\n",
       "  <thead>\n",
       "    <tr style=\"text-align: right;\">\n",
       "      <th></th>\n",
       "      <th>image name</th>\n",
       "      <th>ground truth</th>\n",
       "      <th>ResNet pred</th>\n",
       "      <th>ResNet pred proba</th>\n",
       "      <th>Inception pred</th>\n",
       "      <th>Inception pred proba</th>\n",
       "      <th>Xception pred</th>\n",
       "      <th>Xception pred proba</th>\n",
       "      <th>IceptionResNet pred</th>\n",
       "      <th>IceptionResNet pred proba</th>\n",
       "      <th>votting based on ResNet, Inception, Xception</th>\n",
       "    </tr>\n",
       "  </thead>\n",
       "  <tbody>\n",
       "    <tr>\n",
       "      <th>0</th>\n",
       "      <td>1213037.jpg</td>\n",
       "      <td>hamburger</td>\n",
       "      <td>hamburger</td>\n",
       "      <td>1.000000</td>\n",
       "      <td>hamburger</td>\n",
       "      <td>0.999732</td>\n",
       "      <td>hamburger</td>\n",
       "      <td>0.999845</td>\n",
       "      <td>hamburger</td>\n",
       "      <td>0.999997</td>\n",
       "      <td>hamburger</td>\n",
       "    </tr>\n",
       "    <tr>\n",
       "      <th>1</th>\n",
       "      <td>1381751.jpg</td>\n",
       "      <td>hamburger</td>\n",
       "      <td>hamburger</td>\n",
       "      <td>0.999979</td>\n",
       "      <td>hamburger</td>\n",
       "      <td>0.994313</td>\n",
       "      <td>hamburger</td>\n",
       "      <td>0.984473</td>\n",
       "      <td>hamburger</td>\n",
       "      <td>0.995442</td>\n",
       "      <td>hamburger</td>\n",
       "    </tr>\n",
       "    <tr>\n",
       "      <th>2</th>\n",
       "      <td>1327199.jpg</td>\n",
       "      <td>hamburger</td>\n",
       "      <td>hamburger</td>\n",
       "      <td>1.000000</td>\n",
       "      <td>hamburger</td>\n",
       "      <td>0.999808</td>\n",
       "      <td>hamburger</td>\n",
       "      <td>0.999657</td>\n",
       "      <td>hamburger</td>\n",
       "      <td>0.996029</td>\n",
       "      <td>hamburger</td>\n",
       "    </tr>\n",
       "    <tr>\n",
       "      <th>3</th>\n",
       "      <td>1255149.jpg</td>\n",
       "      <td>hamburger</td>\n",
       "      <td>hamburger</td>\n",
       "      <td>1.000000</td>\n",
       "      <td>hamburger</td>\n",
       "      <td>0.999846</td>\n",
       "      <td>hamburger</td>\n",
       "      <td>0.999767</td>\n",
       "      <td>hamburger</td>\n",
       "      <td>0.999523</td>\n",
       "      <td>hamburger</td>\n",
       "    </tr>\n",
       "    <tr>\n",
       "      <th>4</th>\n",
       "      <td>139558.jpg</td>\n",
       "      <td>hamburger</td>\n",
       "      <td>hamburger</td>\n",
       "      <td>0.999967</td>\n",
       "      <td>hamburger</td>\n",
       "      <td>0.999885</td>\n",
       "      <td>hamburger</td>\n",
       "      <td>0.999895</td>\n",
       "      <td>hamburger</td>\n",
       "      <td>0.999951</td>\n",
       "      <td>hamburger</td>\n",
       "    </tr>\n",
       "  </tbody>\n",
       "</table>\n",
       "</div>"
      ],
      "text/plain": [
       "    image name  ... votting based on ResNet, Inception, Xception\n",
       "0  1213037.jpg  ...                                    hamburger\n",
       "1  1381751.jpg  ...                                    hamburger\n",
       "2  1327199.jpg  ...                                    hamburger\n",
       "3  1255149.jpg  ...                                    hamburger\n",
       "4   139558.jpg  ...                                    hamburger\n",
       "\n",
       "[5 rows x 11 columns]"
      ]
     },
     "execution_count": 43,
     "metadata": {
      "tags": []
     },
     "output_type": "execute_result"
    }
   ],
   "source": [
    "df.head()"
   ]
  },
  {
   "cell_type": "code",
   "execution_count": 46,
   "metadata": {
    "colab": {
     "base_uri": "https://localhost:8080/"
    },
    "executionInfo": {
     "elapsed": 919,
     "status": "ok",
     "timestamp": 1607504817459,
     "user": {
      "displayName": "zihao cheng",
      "photoUrl": "",
      "userId": "08728275809159210170"
     },
     "user_tz": -480
    },
    "id": "jtHNAc74wNZr",
    "outputId": "1a68399d-af85-47a3-dd42-fa23fc353a6d"
   },
   "outputs": [
    {
     "data": {
      "text/plain": [
       "(600, 11)"
      ]
     },
     "execution_count": 46,
     "metadata": {
      "tags": []
     },
     "output_type": "execute_result"
    }
   ],
   "source": [
    "df.shape"
   ]
  },
  {
   "cell_type": "code",
   "execution_count": 44,
   "metadata": {
    "executionInfo": {
     "elapsed": 980,
     "status": "ok",
     "timestamp": 1607504652735,
     "user": {
      "displayName": "zihao cheng",
      "photoUrl": "",
      "userId": "08728275809159210170"
     },
     "user_tz": -480
    },
    "id": "xt-N1e1ntT4f"
   },
   "outputs": [],
   "source": [
    "df.to_csv(\"/content/drive/MyDrive/HPE_Proj/food_recognition_proj/test_result.csv\", index=False)\n",
    "\n",
    "#df.to_csv(\"test_result.csv\", index=False)"
   ]
  },
  {
   "cell_type": "markdown",
   "metadata": {
    "id": "zHbujuRcvyVn"
   },
   "source": [
    "### ERROR analysis: find the one with wrong votting result"
   ]
  },
  {
   "cell_type": "code",
   "execution_count": 47,
   "metadata": {
    "executionInfo": {
     "elapsed": 843,
     "status": "ok",
     "timestamp": 1607504856318,
     "user": {
      "displayName": "zihao cheng",
      "photoUrl": "",
      "userId": "08728275809159210170"
     },
     "user_tz": -480
    },
    "id": "NoS6HXUiv54z"
   },
   "outputs": [],
   "source": [
    "wrong_predition_df = df[df[\"ground truth\"] != df[\"votting based on ResNet, Inception, Xception\"]]"
   ]
  },
  {
   "cell_type": "code",
   "execution_count": 48,
   "metadata": {
    "colab": {
     "base_uri": "https://localhost:8080/"
    },
    "executionInfo": {
     "elapsed": 931,
     "status": "ok",
     "timestamp": 1607504869875,
     "user": {
      "displayName": "zihao cheng",
      "photoUrl": "",
      "userId": "08728275809159210170"
     },
     "user_tz": -480
    },
    "id": "cXOrhrAXwYF3",
    "outputId": "47b5c0c9-81be-402f-c241-7b40513dcd60"
   },
   "outputs": [
    {
     "data": {
      "text/plain": [
       "(6, 11)"
      ]
     },
     "execution_count": 48,
     "metadata": {
      "tags": []
     },
     "output_type": "execute_result"
    }
   ],
   "source": [
    "wrong_predition_df.shape"
   ]
  },
  {
   "cell_type": "code",
   "execution_count": 51,
   "metadata": {
    "colab": {
     "base_uri": "https://localhost:8080/",
     "height": 252
    },
    "executionInfo": {
     "elapsed": 922,
     "status": "ok",
     "timestamp": 1607504928020,
     "user": {
      "displayName": "zihao cheng",
      "photoUrl": "",
      "userId": "08728275809159210170"
     },
     "user_tz": -480
    },
    "id": "yybXkbHFwbO2",
    "outputId": "6b66605f-0224-44d1-99e5-1392d6c6a061"
   },
   "outputs": [
    {
     "data": {
      "text/html": [
       "<div>\n",
       "<style scoped>\n",
       "    .dataframe tbody tr th:only-of-type {\n",
       "        vertical-align: middle;\n",
       "    }\n",
       "\n",
       "    .dataframe tbody tr th {\n",
       "        vertical-align: top;\n",
       "    }\n",
       "\n",
       "    .dataframe thead th {\n",
       "        text-align: right;\n",
       "    }\n",
       "</style>\n",
       "<table border=\"1\" class=\"dataframe\">\n",
       "  <thead>\n",
       "    <tr style=\"text-align: right;\">\n",
       "      <th></th>\n",
       "      <th>image name</th>\n",
       "      <th>ground truth</th>\n",
       "      <th>ResNet pred</th>\n",
       "      <th>ResNet pred proba</th>\n",
       "      <th>Inception pred</th>\n",
       "      <th>Inception pred proba</th>\n",
       "      <th>Xception pred</th>\n",
       "      <th>Xception pred proba</th>\n",
       "      <th>IceptionResNet pred</th>\n",
       "      <th>IceptionResNet pred proba</th>\n",
       "      <th>votting based on ResNet, Inception, Xception</th>\n",
       "    </tr>\n",
       "  </thead>\n",
       "  <tbody>\n",
       "    <tr>\n",
       "      <th>137</th>\n",
       "      <td>446192.jpg</td>\n",
       "      <td>hamburger</td>\n",
       "      <td>hamburger</td>\n",
       "      <td>0.643747</td>\n",
       "      <td>ramen</td>\n",
       "      <td>0.592676</td>\n",
       "      <td>ramen</td>\n",
       "      <td>0.561570</td>\n",
       "      <td>hamburger</td>\n",
       "      <td>0.805756</td>\n",
       "      <td>ramen</td>\n",
       "    </tr>\n",
       "    <tr>\n",
       "      <th>168</th>\n",
       "      <td>1047561.jpg</td>\n",
       "      <td>pizza</td>\n",
       "      <td>ramen</td>\n",
       "      <td>0.909069</td>\n",
       "      <td>ramen</td>\n",
       "      <td>0.497029</td>\n",
       "      <td>ramen</td>\n",
       "      <td>0.630875</td>\n",
       "      <td>ramen</td>\n",
       "      <td>0.687036</td>\n",
       "      <td>ramen</td>\n",
       "    </tr>\n",
       "    <tr>\n",
       "      <th>193</th>\n",
       "      <td>2426686.jpg</td>\n",
       "      <td>pizza</td>\n",
       "      <td>sushi</td>\n",
       "      <td>0.569225</td>\n",
       "      <td>sushi</td>\n",
       "      <td>0.996575</td>\n",
       "      <td>pizza</td>\n",
       "      <td>0.973725</td>\n",
       "      <td>sushi</td>\n",
       "      <td>0.987825</td>\n",
       "      <td>sushi</td>\n",
       "    </tr>\n",
       "    <tr>\n",
       "      <th>194</th>\n",
       "      <td>2091857.jpg</td>\n",
       "      <td>pizza</td>\n",
       "      <td>ramen</td>\n",
       "      <td>0.824976</td>\n",
       "      <td>pizza</td>\n",
       "      <td>0.639736</td>\n",
       "      <td>ramen</td>\n",
       "      <td>0.809583</td>\n",
       "      <td>pizza</td>\n",
       "      <td>0.997031</td>\n",
       "      <td>ramen</td>\n",
       "    </tr>\n",
       "    <tr>\n",
       "      <th>516</th>\n",
       "      <td>194976.jpg</td>\n",
       "      <td>sushi</td>\n",
       "      <td>hamburger</td>\n",
       "      <td>0.951253</td>\n",
       "      <td>sushi</td>\n",
       "      <td>0.957728</td>\n",
       "      <td>hamburger</td>\n",
       "      <td>0.583182</td>\n",
       "      <td>ramen</td>\n",
       "      <td>0.498619</td>\n",
       "      <td>hamburger</td>\n",
       "    </tr>\n",
       "    <tr>\n",
       "      <th>598</th>\n",
       "      <td>918194.jpg</td>\n",
       "      <td>sushi</td>\n",
       "      <td>pizza</td>\n",
       "      <td>0.437342</td>\n",
       "      <td>ramen</td>\n",
       "      <td>0.714212</td>\n",
       "      <td>ramen</td>\n",
       "      <td>0.668742</td>\n",
       "      <td>hamburger</td>\n",
       "      <td>0.999843</td>\n",
       "      <td>ramen</td>\n",
       "    </tr>\n",
       "  </tbody>\n",
       "</table>\n",
       "</div>"
      ],
      "text/plain": [
       "      image name  ... votting based on ResNet, Inception, Xception\n",
       "137   446192.jpg  ...                                        ramen\n",
       "168  1047561.jpg  ...                                        ramen\n",
       "193  2426686.jpg  ...                                        sushi\n",
       "194  2091857.jpg  ...                                        ramen\n",
       "516   194976.jpg  ...                                    hamburger\n",
       "598   918194.jpg  ...                                        ramen\n",
       "\n",
       "[6 rows x 11 columns]"
      ]
     },
     "execution_count": 51,
     "metadata": {
      "tags": []
     },
     "output_type": "execute_result"
    }
   ],
   "source": [
    "wrong_predition_df.head(6)"
   ]
  }
 ],
 "metadata": {
  "accelerator": "TPU",
  "colab": {
   "authorship_tag": "ABX9TyNrY3rEgJWoRntFs+fl93H5",
   "collapsed_sections": [],
   "name": "model_selection_and_test.ipynb",
   "provenance": [],
   "toc_visible": true
  },
  "kernelspec": {
   "display_name": "Python 3",
   "language": "python",
   "name": "python3"
  },
  "language_info": {
   "codemirror_mode": {
    "name": "ipython",
    "version": 3
   },
   "file_extension": ".py",
   "mimetype": "text/x-python",
   "name": "python",
   "nbconvert_exporter": "python",
   "pygments_lexer": "ipython3",
   "version": "3.7.9"
  }
 },
 "nbformat": 4,
 "nbformat_minor": 1
}
